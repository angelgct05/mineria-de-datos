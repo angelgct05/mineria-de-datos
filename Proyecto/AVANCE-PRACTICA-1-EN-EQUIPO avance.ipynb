{
 "cells": [
  {
   "cell_type": "markdown",
   "metadata": {},
   "source": [
    "# AVANCE PRACTICA 1 EN EQUIPO"
   ]
  },
  {
   "cell_type": "markdown",
   "metadata": {},
   "source": [
    "### Objetivo"
   ]
  },
  {
   "cell_type": "markdown",
   "metadata": {},
   "source": [
    " En esta actividad nos encargaremos de limpiar los datos de nuestra Base de Datos, que como ya lo hemos comentado anteriormente es de una BD que tiene informacion de Suicidios y contamos con algunas columnas las cuales las mas importantes para nosotros son la generacion y el lugar donde han ocurrido estos mismos, ya que nuestro objetivo principal es agruparlos y ver la clasificacion que se tiene en cuestion de generaciones para que de esta manera nos ayude a nosotros a poder saber cual de estas Generaciones ha sido más propensa a esta triste situacion y poder tomar accion, creando conciencia a futuras generaciones y hacer todo lo que este en nuestras manos para tomarlo como \"foco rojo\" a esta misma.\n",
    " \n",
    " Integrantes:\n",
    " \n",
    " * Mata Martínez Missael \t\t    1672902\n",
    " \n",
    " * Celestino Tovar Angel Gabriel \t1668653"
   ]
  },
  {
   "cell_type": "markdown",
   "metadata": {},
   "source": [
    "### Preguntas de interes"
   ]
  },
  {
   "cell_type": "markdown",
   "metadata": {},
   "source": [
    "- ¿Quienes tienen mayor indice de suicidios por generaciones?\n",
    "- ¿Cuáles son los 5 países con mayor probabilidad de suicidio en base a sus suicidios por cada 100k de habitantes?\n",
    "- ¿Se puede saber entre hombres y mujeres quienes tienen mayor indice de suicidios?\n",
    "- ¿Cual es la caracteristica (edad, año, etc.) mas influyente para detectar un suicidio?"
   ]
  },
  {
   "cell_type": "markdown",
   "metadata": {},
   "source": [
    "# Limpieza de datos"
   ]
  },
  {
   "cell_type": "markdown",
   "metadata": {},
   "source": [
    "El primer paso sera importar librerias y utilizamos la libreria pandas para poder cargar archivos csv."
   ]
  },
  {
   "cell_type": "code",
   "execution_count": 47,
   "metadata": {},
   "outputs": [],
   "source": [
    "import warnings\n",
    "warnings.simplefilter(\"ignore\")\n",
    "import matplotlib.pyplot as plt\n",
    "import seaborn as sn\n",
    "import seaborn as sns; sns.set()\n",
    "import numpy as np \n",
    "import pandas as pd\n",
    "df = pd.read_csv(\"master.csv\") "
   ]
  },
  {
   "cell_type": "markdown",
   "metadata": {},
   "source": [
    "Verificamos las dimensiones de la tabla"
   ]
  },
  {
   "cell_type": "code",
   "execution_count": 48,
   "metadata": {},
   "outputs": [
    {
     "data": {
      "text/plain": [
       "(27820, 12)"
      ]
     },
     "execution_count": 48,
     "metadata": {},
     "output_type": "execute_result"
    }
   ],
   "source": [
    "df.shape"
   ]
  },
  {
   "cell_type": "markdown",
   "metadata": {},
   "source": [
    "Ahora visualizaremos la tabla con solamente 12 de sus filas de las 27820 que tiene"
   ]
  },
  {
   "cell_type": "code",
   "execution_count": 49,
   "metadata": {},
   "outputs": [
    {
     "data": {
      "text/html": [
       "<div>\n",
       "<style scoped>\n",
       "    .dataframe tbody tr th:only-of-type {\n",
       "        vertical-align: middle;\n",
       "    }\n",
       "\n",
       "    .dataframe tbody tr th {\n",
       "        vertical-align: top;\n",
       "    }\n",
       "\n",
       "    .dataframe thead th {\n",
       "        text-align: right;\n",
       "    }\n",
       "</style>\n",
       "<table border=\"1\" class=\"dataframe\">\n",
       "  <thead>\n",
       "    <tr style=\"text-align: right;\">\n",
       "      <th></th>\n",
       "      <th>country</th>\n",
       "      <th>year</th>\n",
       "      <th>sex</th>\n",
       "      <th>age</th>\n",
       "      <th>suicides_no</th>\n",
       "      <th>population</th>\n",
       "      <th>suicides/100k pop</th>\n",
       "      <th>country-year</th>\n",
       "      <th>HDI for year</th>\n",
       "      <th>gdp_for_year ($)</th>\n",
       "      <th>gdp_per_capita ($)</th>\n",
       "      <th>generation</th>\n",
       "    </tr>\n",
       "  </thead>\n",
       "  <tbody>\n",
       "    <tr>\n",
       "      <td>0</td>\n",
       "      <td>Albania</td>\n",
       "      <td>1987</td>\n",
       "      <td>male</td>\n",
       "      <td>15-24 years</td>\n",
       "      <td>21</td>\n",
       "      <td>312900</td>\n",
       "      <td>6.71</td>\n",
       "      <td>Albania1987</td>\n",
       "      <td>NaN</td>\n",
       "      <td>2,156,624,900</td>\n",
       "      <td>796</td>\n",
       "      <td>Generation X</td>\n",
       "    </tr>\n",
       "    <tr>\n",
       "      <td>1</td>\n",
       "      <td>Albania</td>\n",
       "      <td>1987</td>\n",
       "      <td>male</td>\n",
       "      <td>35-54 years</td>\n",
       "      <td>16</td>\n",
       "      <td>308000</td>\n",
       "      <td>5.19</td>\n",
       "      <td>Albania1987</td>\n",
       "      <td>NaN</td>\n",
       "      <td>2,156,624,900</td>\n",
       "      <td>796</td>\n",
       "      <td>Silent</td>\n",
       "    </tr>\n",
       "    <tr>\n",
       "      <td>2</td>\n",
       "      <td>Albania</td>\n",
       "      <td>1987</td>\n",
       "      <td>female</td>\n",
       "      <td>15-24 years</td>\n",
       "      <td>14</td>\n",
       "      <td>289700</td>\n",
       "      <td>4.83</td>\n",
       "      <td>Albania1987</td>\n",
       "      <td>NaN</td>\n",
       "      <td>2,156,624,900</td>\n",
       "      <td>796</td>\n",
       "      <td>Generation X</td>\n",
       "    </tr>\n",
       "    <tr>\n",
       "      <td>3</td>\n",
       "      <td>Albania</td>\n",
       "      <td>1987</td>\n",
       "      <td>male</td>\n",
       "      <td>75+ years</td>\n",
       "      <td>1</td>\n",
       "      <td>21800</td>\n",
       "      <td>4.59</td>\n",
       "      <td>Albania1987</td>\n",
       "      <td>NaN</td>\n",
       "      <td>2,156,624,900</td>\n",
       "      <td>796</td>\n",
       "      <td>G.I. Generation</td>\n",
       "    </tr>\n",
       "    <tr>\n",
       "      <td>4</td>\n",
       "      <td>Albania</td>\n",
       "      <td>1987</td>\n",
       "      <td>male</td>\n",
       "      <td>25-34 years</td>\n",
       "      <td>9</td>\n",
       "      <td>274300</td>\n",
       "      <td>3.28</td>\n",
       "      <td>Albania1987</td>\n",
       "      <td>NaN</td>\n",
       "      <td>2,156,624,900</td>\n",
       "      <td>796</td>\n",
       "      <td>Boomers</td>\n",
       "    </tr>\n",
       "    <tr>\n",
       "      <td>5</td>\n",
       "      <td>Albania</td>\n",
       "      <td>1987</td>\n",
       "      <td>female</td>\n",
       "      <td>75+ years</td>\n",
       "      <td>1</td>\n",
       "      <td>35600</td>\n",
       "      <td>2.81</td>\n",
       "      <td>Albania1987</td>\n",
       "      <td>NaN</td>\n",
       "      <td>2,156,624,900</td>\n",
       "      <td>796</td>\n",
       "      <td>G.I. Generation</td>\n",
       "    </tr>\n",
       "    <tr>\n",
       "      <td>6</td>\n",
       "      <td>Albania</td>\n",
       "      <td>1987</td>\n",
       "      <td>female</td>\n",
       "      <td>35-54 years</td>\n",
       "      <td>6</td>\n",
       "      <td>278800</td>\n",
       "      <td>2.15</td>\n",
       "      <td>Albania1987</td>\n",
       "      <td>NaN</td>\n",
       "      <td>2,156,624,900</td>\n",
       "      <td>796</td>\n",
       "      <td>Silent</td>\n",
       "    </tr>\n",
       "    <tr>\n",
       "      <td>7</td>\n",
       "      <td>Albania</td>\n",
       "      <td>1987</td>\n",
       "      <td>female</td>\n",
       "      <td>25-34 years</td>\n",
       "      <td>4</td>\n",
       "      <td>257200</td>\n",
       "      <td>1.56</td>\n",
       "      <td>Albania1987</td>\n",
       "      <td>NaN</td>\n",
       "      <td>2,156,624,900</td>\n",
       "      <td>796</td>\n",
       "      <td>Boomers</td>\n",
       "    </tr>\n",
       "    <tr>\n",
       "      <td>8</td>\n",
       "      <td>Albania</td>\n",
       "      <td>1987</td>\n",
       "      <td>male</td>\n",
       "      <td>55-74 years</td>\n",
       "      <td>1</td>\n",
       "      <td>137500</td>\n",
       "      <td>0.73</td>\n",
       "      <td>Albania1987</td>\n",
       "      <td>NaN</td>\n",
       "      <td>2,156,624,900</td>\n",
       "      <td>796</td>\n",
       "      <td>G.I. Generation</td>\n",
       "    </tr>\n",
       "    <tr>\n",
       "      <td>9</td>\n",
       "      <td>Albania</td>\n",
       "      <td>1987</td>\n",
       "      <td>female</td>\n",
       "      <td>5-14 years</td>\n",
       "      <td>0</td>\n",
       "      <td>311000</td>\n",
       "      <td>0.00</td>\n",
       "      <td>Albania1987</td>\n",
       "      <td>NaN</td>\n",
       "      <td>2,156,624,900</td>\n",
       "      <td>796</td>\n",
       "      <td>Generation X</td>\n",
       "    </tr>\n",
       "    <tr>\n",
       "      <td>10</td>\n",
       "      <td>Albania</td>\n",
       "      <td>1987</td>\n",
       "      <td>female</td>\n",
       "      <td>55-74 years</td>\n",
       "      <td>0</td>\n",
       "      <td>144600</td>\n",
       "      <td>0.00</td>\n",
       "      <td>Albania1987</td>\n",
       "      <td>NaN</td>\n",
       "      <td>2,156,624,900</td>\n",
       "      <td>796</td>\n",
       "      <td>G.I. Generation</td>\n",
       "    </tr>\n",
       "    <tr>\n",
       "      <td>11</td>\n",
       "      <td>Albania</td>\n",
       "      <td>1987</td>\n",
       "      <td>male</td>\n",
       "      <td>5-14 years</td>\n",
       "      <td>0</td>\n",
       "      <td>338200</td>\n",
       "      <td>0.00</td>\n",
       "      <td>Albania1987</td>\n",
       "      <td>NaN</td>\n",
       "      <td>2,156,624,900</td>\n",
       "      <td>796</td>\n",
       "      <td>Generation X</td>\n",
       "    </tr>\n",
       "  </tbody>\n",
       "</table>\n",
       "</div>"
      ],
      "text/plain": [
       "    country  year     sex          age  suicides_no  population  \\\n",
       "0   Albania  1987    male  15-24 years           21      312900   \n",
       "1   Albania  1987    male  35-54 years           16      308000   \n",
       "2   Albania  1987  female  15-24 years           14      289700   \n",
       "3   Albania  1987    male    75+ years            1       21800   \n",
       "4   Albania  1987    male  25-34 years            9      274300   \n",
       "5   Albania  1987  female    75+ years            1       35600   \n",
       "6   Albania  1987  female  35-54 years            6      278800   \n",
       "7   Albania  1987  female  25-34 years            4      257200   \n",
       "8   Albania  1987    male  55-74 years            1      137500   \n",
       "9   Albania  1987  female   5-14 years            0      311000   \n",
       "10  Albania  1987  female  55-74 years            0      144600   \n",
       "11  Albania  1987    male   5-14 years            0      338200   \n",
       "\n",
       "    suicides/100k pop country-year  HDI for year  gdp_for_year ($)   \\\n",
       "0                6.71  Albania1987           NaN      2,156,624,900   \n",
       "1                5.19  Albania1987           NaN      2,156,624,900   \n",
       "2                4.83  Albania1987           NaN      2,156,624,900   \n",
       "3                4.59  Albania1987           NaN      2,156,624,900   \n",
       "4                3.28  Albania1987           NaN      2,156,624,900   \n",
       "5                2.81  Albania1987           NaN      2,156,624,900   \n",
       "6                2.15  Albania1987           NaN      2,156,624,900   \n",
       "7                1.56  Albania1987           NaN      2,156,624,900   \n",
       "8                0.73  Albania1987           NaN      2,156,624,900   \n",
       "9                0.00  Albania1987           NaN      2,156,624,900   \n",
       "10               0.00  Albania1987           NaN      2,156,624,900   \n",
       "11               0.00  Albania1987           NaN      2,156,624,900   \n",
       "\n",
       "    gdp_per_capita ($)       generation  \n",
       "0                  796     Generation X  \n",
       "1                  796           Silent  \n",
       "2                  796     Generation X  \n",
       "3                  796  G.I. Generation  \n",
       "4                  796          Boomers  \n",
       "5                  796  G.I. Generation  \n",
       "6                  796           Silent  \n",
       "7                  796          Boomers  \n",
       "8                  796  G.I. Generation  \n",
       "9                  796     Generation X  \n",
       "10                 796  G.I. Generation  \n",
       "11                 796     Generation X  "
      ]
     },
     "execution_count": 49,
     "metadata": {},
     "output_type": "execute_result"
    }
   ],
   "source": [
    "df.head(12)"
   ]
  },
  {
   "cell_type": "markdown",
   "metadata": {},
   "source": [
    "A continuacion mostraremos los nombres y tipos de datos que tiene nuestra BD"
   ]
  },
  {
   "cell_type": "code",
   "execution_count": 50,
   "metadata": {},
   "outputs": [
    {
     "data": {
      "text/plain": [
       "country                object\n",
       "year                    int64\n",
       "sex                    object\n",
       "age                    object\n",
       "suicides_no             int64\n",
       "population              int64\n",
       "suicides/100k pop     float64\n",
       "country-year           object\n",
       "HDI for year          float64\n",
       " gdp_for_year ($)      object\n",
       "gdp_per_capita ($)      int64\n",
       "generation             object\n",
       "dtype: object"
      ]
     },
     "execution_count": 50,
     "metadata": {},
     "output_type": "execute_result"
    }
   ],
   "source": [
    "df.dtypes"
   ]
  },
  {
   "cell_type": "markdown",
   "metadata": {},
   "source": [
    "De estas columnas solamente necesitaremos country, sex, suicides_no y generation. Ahora cambiaremos este nombre de las columnas al español"
   ]
  },
  {
   "cell_type": "code",
   "execution_count": 51,
   "metadata": {},
   "outputs": [
    {
     "data": {
      "text/plain": [
       "Index(['Pais', 'Anio', 'Sexo', 'Edad', 'NumeroDeSuicidios', 'Poblacion',\n",
       "       'Suicidios/100k pob', 'IDH por anio', 'PIB por anio', 'PIB per capita',\n",
       "       'Generacion'],\n",
       "      dtype='object')"
      ]
     },
     "execution_count": 51,
     "metadata": {},
     "output_type": "execute_result"
    }
   ],
   "source": [
    "df = df.rename(columns = {'country':'Pais', 'year':'Anio', 'sex':'Sexo', 'suicides_no':'NumeroDeSuicidios', 'generation':'Generacion', 'age': 'Edad', 'population':'Poblacion', 'suicides/100k pop':'Suicidios/100k pob', 'HDI for year':'IDH por anio', ' gdp_for_year ($) ':'PIB por anio', 'gdp_per_capita ($)':'PIB per capita'})\n",
    "df = df.drop('country-year',axis=1)\n",
    "df.columns"
   ]
  },
  {
   "cell_type": "markdown",
   "metadata": {},
   "source": [
    "Ahora, eliminaremos las filas que contengan datos nulos para quitar lo que no necesitamos. Nosotros lo hemos echo asi porque sabemos que las columnas de interes (PAIS, SEXO, NUMERO DE SUICIDIOS Y GENERACION) no se encuentran con ninguna celda vacia"
   ]
  },
  {
   "cell_type": "code",
   "execution_count": 52,
   "metadata": {},
   "outputs": [],
   "source": [
    "df = df.dropna()"
   ]
  },
  {
   "cell_type": "markdown",
   "metadata": {},
   "source": [
    "Ahora mostramos lo que hicimos"
   ]
  },
  {
   "cell_type": "code",
   "execution_count": 53,
   "metadata": {},
   "outputs": [
    {
     "data": {
      "text/html": [
       "<div>\n",
       "<style scoped>\n",
       "    .dataframe tbody tr th:only-of-type {\n",
       "        vertical-align: middle;\n",
       "    }\n",
       "\n",
       "    .dataframe tbody tr th {\n",
       "        vertical-align: top;\n",
       "    }\n",
       "\n",
       "    .dataframe thead th {\n",
       "        text-align: right;\n",
       "    }\n",
       "</style>\n",
       "<table border=\"1\" class=\"dataframe\">\n",
       "  <thead>\n",
       "    <tr style=\"text-align: right;\">\n",
       "      <th></th>\n",
       "      <th>Pais</th>\n",
       "      <th>Anio</th>\n",
       "      <th>Sexo</th>\n",
       "      <th>Edad</th>\n",
       "      <th>NumeroDeSuicidios</th>\n",
       "      <th>Poblacion</th>\n",
       "      <th>Suicidios/100k pob</th>\n",
       "      <th>IDH por anio</th>\n",
       "      <th>PIB por anio</th>\n",
       "      <th>PIB per capita</th>\n",
       "      <th>Generacion</th>\n",
       "    </tr>\n",
       "  </thead>\n",
       "  <tbody>\n",
       "    <tr>\n",
       "      <td>72</td>\n",
       "      <td>Albania</td>\n",
       "      <td>1995</td>\n",
       "      <td>male</td>\n",
       "      <td>25-34 years</td>\n",
       "      <td>13</td>\n",
       "      <td>232900</td>\n",
       "      <td>5.58</td>\n",
       "      <td>0.619</td>\n",
       "      <td>2,424,499,009</td>\n",
       "      <td>835</td>\n",
       "      <td>Generation X</td>\n",
       "    </tr>\n",
       "    <tr>\n",
       "      <td>73</td>\n",
       "      <td>Albania</td>\n",
       "      <td>1995</td>\n",
       "      <td>male</td>\n",
       "      <td>55-74 years</td>\n",
       "      <td>9</td>\n",
       "      <td>178000</td>\n",
       "      <td>5.06</td>\n",
       "      <td>0.619</td>\n",
       "      <td>2,424,499,009</td>\n",
       "      <td>835</td>\n",
       "      <td>Silent</td>\n",
       "    </tr>\n",
       "    <tr>\n",
       "      <td>74</td>\n",
       "      <td>Albania</td>\n",
       "      <td>1995</td>\n",
       "      <td>female</td>\n",
       "      <td>75+ years</td>\n",
       "      <td>2</td>\n",
       "      <td>40800</td>\n",
       "      <td>4.90</td>\n",
       "      <td>0.619</td>\n",
       "      <td>2,424,499,009</td>\n",
       "      <td>835</td>\n",
       "      <td>G.I. Generation</td>\n",
       "    </tr>\n",
       "    <tr>\n",
       "      <td>75</td>\n",
       "      <td>Albania</td>\n",
       "      <td>1995</td>\n",
       "      <td>female</td>\n",
       "      <td>15-24 years</td>\n",
       "      <td>13</td>\n",
       "      <td>283500</td>\n",
       "      <td>4.59</td>\n",
       "      <td>0.619</td>\n",
       "      <td>2,424,499,009</td>\n",
       "      <td>835</td>\n",
       "      <td>Generation X</td>\n",
       "    </tr>\n",
       "    <tr>\n",
       "      <td>76</td>\n",
       "      <td>Albania</td>\n",
       "      <td>1995</td>\n",
       "      <td>male</td>\n",
       "      <td>15-24 years</td>\n",
       "      <td>11</td>\n",
       "      <td>241200</td>\n",
       "      <td>4.56</td>\n",
       "      <td>0.619</td>\n",
       "      <td>2,424,499,009</td>\n",
       "      <td>835</td>\n",
       "      <td>Generation X</td>\n",
       "    </tr>\n",
       "    <tr>\n",
       "      <td>...</td>\n",
       "      <td>...</td>\n",
       "      <td>...</td>\n",
       "      <td>...</td>\n",
       "      <td>...</td>\n",
       "      <td>...</td>\n",
       "      <td>...</td>\n",
       "      <td>...</td>\n",
       "      <td>...</td>\n",
       "      <td>...</td>\n",
       "      <td>...</td>\n",
       "      <td>...</td>\n",
       "    </tr>\n",
       "    <tr>\n",
       "      <td>27815</td>\n",
       "      <td>Uzbekistan</td>\n",
       "      <td>2014</td>\n",
       "      <td>female</td>\n",
       "      <td>35-54 years</td>\n",
       "      <td>107</td>\n",
       "      <td>3620833</td>\n",
       "      <td>2.96</td>\n",
       "      <td>0.675</td>\n",
       "      <td>63,067,077,179</td>\n",
       "      <td>2309</td>\n",
       "      <td>Generation X</td>\n",
       "    </tr>\n",
       "    <tr>\n",
       "      <td>27816</td>\n",
       "      <td>Uzbekistan</td>\n",
       "      <td>2014</td>\n",
       "      <td>female</td>\n",
       "      <td>75+ years</td>\n",
       "      <td>9</td>\n",
       "      <td>348465</td>\n",
       "      <td>2.58</td>\n",
       "      <td>0.675</td>\n",
       "      <td>63,067,077,179</td>\n",
       "      <td>2309</td>\n",
       "      <td>Silent</td>\n",
       "    </tr>\n",
       "    <tr>\n",
       "      <td>27817</td>\n",
       "      <td>Uzbekistan</td>\n",
       "      <td>2014</td>\n",
       "      <td>male</td>\n",
       "      <td>5-14 years</td>\n",
       "      <td>60</td>\n",
       "      <td>2762158</td>\n",
       "      <td>2.17</td>\n",
       "      <td>0.675</td>\n",
       "      <td>63,067,077,179</td>\n",
       "      <td>2309</td>\n",
       "      <td>Generation Z</td>\n",
       "    </tr>\n",
       "    <tr>\n",
       "      <td>27818</td>\n",
       "      <td>Uzbekistan</td>\n",
       "      <td>2014</td>\n",
       "      <td>female</td>\n",
       "      <td>5-14 years</td>\n",
       "      <td>44</td>\n",
       "      <td>2631600</td>\n",
       "      <td>1.67</td>\n",
       "      <td>0.675</td>\n",
       "      <td>63,067,077,179</td>\n",
       "      <td>2309</td>\n",
       "      <td>Generation Z</td>\n",
       "    </tr>\n",
       "    <tr>\n",
       "      <td>27819</td>\n",
       "      <td>Uzbekistan</td>\n",
       "      <td>2014</td>\n",
       "      <td>female</td>\n",
       "      <td>55-74 years</td>\n",
       "      <td>21</td>\n",
       "      <td>1438935</td>\n",
       "      <td>1.46</td>\n",
       "      <td>0.675</td>\n",
       "      <td>63,067,077,179</td>\n",
       "      <td>2309</td>\n",
       "      <td>Boomers</td>\n",
       "    </tr>\n",
       "  </tbody>\n",
       "</table>\n",
       "<p>8364 rows × 11 columns</p>\n",
       "</div>"
      ],
      "text/plain": [
       "             Pais  Anio    Sexo         Edad  NumeroDeSuicidios  Poblacion  \\\n",
       "72        Albania  1995    male  25-34 years                 13     232900   \n",
       "73        Albania  1995    male  55-74 years                  9     178000   \n",
       "74        Albania  1995  female    75+ years                  2      40800   \n",
       "75        Albania  1995  female  15-24 years                 13     283500   \n",
       "76        Albania  1995    male  15-24 years                 11     241200   \n",
       "...           ...   ...     ...          ...                ...        ...   \n",
       "27815  Uzbekistan  2014  female  35-54 years                107    3620833   \n",
       "27816  Uzbekistan  2014  female    75+ years                  9     348465   \n",
       "27817  Uzbekistan  2014    male   5-14 years                 60    2762158   \n",
       "27818  Uzbekistan  2014  female   5-14 years                 44    2631600   \n",
       "27819  Uzbekistan  2014  female  55-74 years                 21    1438935   \n",
       "\n",
       "       Suicidios/100k pob  IDH por anio    PIB por anio  PIB per capita  \\\n",
       "72                   5.58         0.619   2,424,499,009             835   \n",
       "73                   5.06         0.619   2,424,499,009             835   \n",
       "74                   4.90         0.619   2,424,499,009             835   \n",
       "75                   4.59         0.619   2,424,499,009             835   \n",
       "76                   4.56         0.619   2,424,499,009             835   \n",
       "...                   ...           ...             ...             ...   \n",
       "27815                2.96         0.675  63,067,077,179            2309   \n",
       "27816                2.58         0.675  63,067,077,179            2309   \n",
       "27817                2.17         0.675  63,067,077,179            2309   \n",
       "27818                1.67         0.675  63,067,077,179            2309   \n",
       "27819                1.46         0.675  63,067,077,179            2309   \n",
       "\n",
       "            Generacion  \n",
       "72        Generation X  \n",
       "73              Silent  \n",
       "74     G.I. Generation  \n",
       "75        Generation X  \n",
       "76        Generation X  \n",
       "...                ...  \n",
       "27815     Generation X  \n",
       "27816           Silent  \n",
       "27817     Generation Z  \n",
       "27818     Generation Z  \n",
       "27819          Boomers  \n",
       "\n",
       "[8364 rows x 11 columns]"
      ]
     },
     "execution_count": 53,
     "metadata": {},
     "output_type": "execute_result"
    }
   ],
   "source": [
    "df"
   ]
  },
  {
   "cell_type": "markdown",
   "metadata": {},
   "source": [
    "Ahora eliminaremos todas las columnas que tengan datos nulos. Igual que en lo anterior, ya confirmamos que en nuestras columnas de interes no habia datos nulos."
   ]
  },
  {
   "cell_type": "code",
   "execution_count": 54,
   "metadata": {},
   "outputs": [],
   "source": [
    "df = df.dropna(axis=1)"
   ]
  },
  {
   "cell_type": "markdown",
   "metadata": {},
   "source": [
    "Ahora mostraremos el resultado"
   ]
  },
  {
   "cell_type": "code",
   "execution_count": 55,
   "metadata": {},
   "outputs": [
    {
     "data": {
      "text/html": [
       "<div>\n",
       "<style scoped>\n",
       "    .dataframe tbody tr th:only-of-type {\n",
       "        vertical-align: middle;\n",
       "    }\n",
       "\n",
       "    .dataframe tbody tr th {\n",
       "        vertical-align: top;\n",
       "    }\n",
       "\n",
       "    .dataframe thead th {\n",
       "        text-align: right;\n",
       "    }\n",
       "</style>\n",
       "<table border=\"1\" class=\"dataframe\">\n",
       "  <thead>\n",
       "    <tr style=\"text-align: right;\">\n",
       "      <th></th>\n",
       "      <th>Pais</th>\n",
       "      <th>Anio</th>\n",
       "      <th>Sexo</th>\n",
       "      <th>Edad</th>\n",
       "      <th>NumeroDeSuicidios</th>\n",
       "      <th>Poblacion</th>\n",
       "      <th>Suicidios/100k pob</th>\n",
       "      <th>IDH por anio</th>\n",
       "      <th>PIB por anio</th>\n",
       "      <th>PIB per capita</th>\n",
       "      <th>Generacion</th>\n",
       "    </tr>\n",
       "  </thead>\n",
       "  <tbody>\n",
       "    <tr>\n",
       "      <td>72</td>\n",
       "      <td>Albania</td>\n",
       "      <td>1995</td>\n",
       "      <td>male</td>\n",
       "      <td>25-34 years</td>\n",
       "      <td>13</td>\n",
       "      <td>232900</td>\n",
       "      <td>5.58</td>\n",
       "      <td>0.619</td>\n",
       "      <td>2,424,499,009</td>\n",
       "      <td>835</td>\n",
       "      <td>Generation X</td>\n",
       "    </tr>\n",
       "    <tr>\n",
       "      <td>73</td>\n",
       "      <td>Albania</td>\n",
       "      <td>1995</td>\n",
       "      <td>male</td>\n",
       "      <td>55-74 years</td>\n",
       "      <td>9</td>\n",
       "      <td>178000</td>\n",
       "      <td>5.06</td>\n",
       "      <td>0.619</td>\n",
       "      <td>2,424,499,009</td>\n",
       "      <td>835</td>\n",
       "      <td>Silent</td>\n",
       "    </tr>\n",
       "    <tr>\n",
       "      <td>74</td>\n",
       "      <td>Albania</td>\n",
       "      <td>1995</td>\n",
       "      <td>female</td>\n",
       "      <td>75+ years</td>\n",
       "      <td>2</td>\n",
       "      <td>40800</td>\n",
       "      <td>4.90</td>\n",
       "      <td>0.619</td>\n",
       "      <td>2,424,499,009</td>\n",
       "      <td>835</td>\n",
       "      <td>G.I. Generation</td>\n",
       "    </tr>\n",
       "    <tr>\n",
       "      <td>75</td>\n",
       "      <td>Albania</td>\n",
       "      <td>1995</td>\n",
       "      <td>female</td>\n",
       "      <td>15-24 years</td>\n",
       "      <td>13</td>\n",
       "      <td>283500</td>\n",
       "      <td>4.59</td>\n",
       "      <td>0.619</td>\n",
       "      <td>2,424,499,009</td>\n",
       "      <td>835</td>\n",
       "      <td>Generation X</td>\n",
       "    </tr>\n",
       "    <tr>\n",
       "      <td>76</td>\n",
       "      <td>Albania</td>\n",
       "      <td>1995</td>\n",
       "      <td>male</td>\n",
       "      <td>15-24 years</td>\n",
       "      <td>11</td>\n",
       "      <td>241200</td>\n",
       "      <td>4.56</td>\n",
       "      <td>0.619</td>\n",
       "      <td>2,424,499,009</td>\n",
       "      <td>835</td>\n",
       "      <td>Generation X</td>\n",
       "    </tr>\n",
       "    <tr>\n",
       "      <td>...</td>\n",
       "      <td>...</td>\n",
       "      <td>...</td>\n",
       "      <td>...</td>\n",
       "      <td>...</td>\n",
       "      <td>...</td>\n",
       "      <td>...</td>\n",
       "      <td>...</td>\n",
       "      <td>...</td>\n",
       "      <td>...</td>\n",
       "      <td>...</td>\n",
       "      <td>...</td>\n",
       "    </tr>\n",
       "    <tr>\n",
       "      <td>27815</td>\n",
       "      <td>Uzbekistan</td>\n",
       "      <td>2014</td>\n",
       "      <td>female</td>\n",
       "      <td>35-54 years</td>\n",
       "      <td>107</td>\n",
       "      <td>3620833</td>\n",
       "      <td>2.96</td>\n",
       "      <td>0.675</td>\n",
       "      <td>63,067,077,179</td>\n",
       "      <td>2309</td>\n",
       "      <td>Generation X</td>\n",
       "    </tr>\n",
       "    <tr>\n",
       "      <td>27816</td>\n",
       "      <td>Uzbekistan</td>\n",
       "      <td>2014</td>\n",
       "      <td>female</td>\n",
       "      <td>75+ years</td>\n",
       "      <td>9</td>\n",
       "      <td>348465</td>\n",
       "      <td>2.58</td>\n",
       "      <td>0.675</td>\n",
       "      <td>63,067,077,179</td>\n",
       "      <td>2309</td>\n",
       "      <td>Silent</td>\n",
       "    </tr>\n",
       "    <tr>\n",
       "      <td>27817</td>\n",
       "      <td>Uzbekistan</td>\n",
       "      <td>2014</td>\n",
       "      <td>male</td>\n",
       "      <td>5-14 years</td>\n",
       "      <td>60</td>\n",
       "      <td>2762158</td>\n",
       "      <td>2.17</td>\n",
       "      <td>0.675</td>\n",
       "      <td>63,067,077,179</td>\n",
       "      <td>2309</td>\n",
       "      <td>Generation Z</td>\n",
       "    </tr>\n",
       "    <tr>\n",
       "      <td>27818</td>\n",
       "      <td>Uzbekistan</td>\n",
       "      <td>2014</td>\n",
       "      <td>female</td>\n",
       "      <td>5-14 years</td>\n",
       "      <td>44</td>\n",
       "      <td>2631600</td>\n",
       "      <td>1.67</td>\n",
       "      <td>0.675</td>\n",
       "      <td>63,067,077,179</td>\n",
       "      <td>2309</td>\n",
       "      <td>Generation Z</td>\n",
       "    </tr>\n",
       "    <tr>\n",
       "      <td>27819</td>\n",
       "      <td>Uzbekistan</td>\n",
       "      <td>2014</td>\n",
       "      <td>female</td>\n",
       "      <td>55-74 years</td>\n",
       "      <td>21</td>\n",
       "      <td>1438935</td>\n",
       "      <td>1.46</td>\n",
       "      <td>0.675</td>\n",
       "      <td>63,067,077,179</td>\n",
       "      <td>2309</td>\n",
       "      <td>Boomers</td>\n",
       "    </tr>\n",
       "  </tbody>\n",
       "</table>\n",
       "<p>8364 rows × 11 columns</p>\n",
       "</div>"
      ],
      "text/plain": [
       "             Pais  Anio    Sexo         Edad  NumeroDeSuicidios  Poblacion  \\\n",
       "72        Albania  1995    male  25-34 years                 13     232900   \n",
       "73        Albania  1995    male  55-74 years                  9     178000   \n",
       "74        Albania  1995  female    75+ years                  2      40800   \n",
       "75        Albania  1995  female  15-24 years                 13     283500   \n",
       "76        Albania  1995    male  15-24 years                 11     241200   \n",
       "...           ...   ...     ...          ...                ...        ...   \n",
       "27815  Uzbekistan  2014  female  35-54 years                107    3620833   \n",
       "27816  Uzbekistan  2014  female    75+ years                  9     348465   \n",
       "27817  Uzbekistan  2014    male   5-14 years                 60    2762158   \n",
       "27818  Uzbekistan  2014  female   5-14 years                 44    2631600   \n",
       "27819  Uzbekistan  2014  female  55-74 years                 21    1438935   \n",
       "\n",
       "       Suicidios/100k pob  IDH por anio    PIB por anio  PIB per capita  \\\n",
       "72                   5.58         0.619   2,424,499,009             835   \n",
       "73                   5.06         0.619   2,424,499,009             835   \n",
       "74                   4.90         0.619   2,424,499,009             835   \n",
       "75                   4.59         0.619   2,424,499,009             835   \n",
       "76                   4.56         0.619   2,424,499,009             835   \n",
       "...                   ...           ...             ...             ...   \n",
       "27815                2.96         0.675  63,067,077,179            2309   \n",
       "27816                2.58         0.675  63,067,077,179            2309   \n",
       "27817                2.17         0.675  63,067,077,179            2309   \n",
       "27818                1.67         0.675  63,067,077,179            2309   \n",
       "27819                1.46         0.675  63,067,077,179            2309   \n",
       "\n",
       "            Generacion  \n",
       "72        Generation X  \n",
       "73              Silent  \n",
       "74     G.I. Generation  \n",
       "75        Generation X  \n",
       "76        Generation X  \n",
       "...                ...  \n",
       "27815     Generation X  \n",
       "27816           Silent  \n",
       "27817     Generation Z  \n",
       "27818     Generation Z  \n",
       "27819          Boomers  \n",
       "\n",
       "[8364 rows x 11 columns]"
      ]
     },
     "execution_count": 55,
     "metadata": {},
     "output_type": "execute_result"
    }
   ],
   "source": [
    "df"
   ]
  },
  {
   "cell_type": "markdown",
   "metadata": {},
   "source": [
    "A continuacion eliminaremos las columnas que no necesitamos. Para solo quedarnos con Pais, Sexo, NumeroDeSuicidios y Generacion, que son de nuestro interes"
   ]
  },
  {
   "cell_type": "code",
   "execution_count": 56,
   "metadata": {
    "scrolled": false
   },
   "outputs": [
    {
     "data": {
      "text/html": [
       "<div>\n",
       "<style scoped>\n",
       "    .dataframe tbody tr th:only-of-type {\n",
       "        vertical-align: middle;\n",
       "    }\n",
       "\n",
       "    .dataframe tbody tr th {\n",
       "        vertical-align: top;\n",
       "    }\n",
       "\n",
       "    .dataframe thead th {\n",
       "        text-align: right;\n",
       "    }\n",
       "</style>\n",
       "<table border=\"1\" class=\"dataframe\">\n",
       "  <thead>\n",
       "    <tr style=\"text-align: right;\">\n",
       "      <th></th>\n",
       "      <th>Pais</th>\n",
       "      <th>Sexo</th>\n",
       "      <th>NumeroDeSuicidios</th>\n",
       "      <th>Generacion</th>\n",
       "    </tr>\n",
       "  </thead>\n",
       "  <tbody>\n",
       "    <tr>\n",
       "      <td>72</td>\n",
       "      <td>Albania</td>\n",
       "      <td>male</td>\n",
       "      <td>13</td>\n",
       "      <td>Generation X</td>\n",
       "    </tr>\n",
       "    <tr>\n",
       "      <td>73</td>\n",
       "      <td>Albania</td>\n",
       "      <td>male</td>\n",
       "      <td>9</td>\n",
       "      <td>Silent</td>\n",
       "    </tr>\n",
       "    <tr>\n",
       "      <td>74</td>\n",
       "      <td>Albania</td>\n",
       "      <td>female</td>\n",
       "      <td>2</td>\n",
       "      <td>G.I. Generation</td>\n",
       "    </tr>\n",
       "    <tr>\n",
       "      <td>75</td>\n",
       "      <td>Albania</td>\n",
       "      <td>female</td>\n",
       "      <td>13</td>\n",
       "      <td>Generation X</td>\n",
       "    </tr>\n",
       "    <tr>\n",
       "      <td>76</td>\n",
       "      <td>Albania</td>\n",
       "      <td>male</td>\n",
       "      <td>11</td>\n",
       "      <td>Generation X</td>\n",
       "    </tr>\n",
       "    <tr>\n",
       "      <td>...</td>\n",
       "      <td>...</td>\n",
       "      <td>...</td>\n",
       "      <td>...</td>\n",
       "      <td>...</td>\n",
       "    </tr>\n",
       "    <tr>\n",
       "      <td>27815</td>\n",
       "      <td>Uzbekistan</td>\n",
       "      <td>female</td>\n",
       "      <td>107</td>\n",
       "      <td>Generation X</td>\n",
       "    </tr>\n",
       "    <tr>\n",
       "      <td>27816</td>\n",
       "      <td>Uzbekistan</td>\n",
       "      <td>female</td>\n",
       "      <td>9</td>\n",
       "      <td>Silent</td>\n",
       "    </tr>\n",
       "    <tr>\n",
       "      <td>27817</td>\n",
       "      <td>Uzbekistan</td>\n",
       "      <td>male</td>\n",
       "      <td>60</td>\n",
       "      <td>Generation Z</td>\n",
       "    </tr>\n",
       "    <tr>\n",
       "      <td>27818</td>\n",
       "      <td>Uzbekistan</td>\n",
       "      <td>female</td>\n",
       "      <td>44</td>\n",
       "      <td>Generation Z</td>\n",
       "    </tr>\n",
       "    <tr>\n",
       "      <td>27819</td>\n",
       "      <td>Uzbekistan</td>\n",
       "      <td>female</td>\n",
       "      <td>21</td>\n",
       "      <td>Boomers</td>\n",
       "    </tr>\n",
       "  </tbody>\n",
       "</table>\n",
       "<p>8364 rows × 4 columns</p>\n",
       "</div>"
      ],
      "text/plain": [
       "             Pais    Sexo  NumeroDeSuicidios       Generacion\n",
       "72        Albania    male                 13     Generation X\n",
       "73        Albania    male                  9           Silent\n",
       "74        Albania  female                  2  G.I. Generation\n",
       "75        Albania  female                 13     Generation X\n",
       "76        Albania    male                 11     Generation X\n",
       "...           ...     ...                ...              ...\n",
       "27815  Uzbekistan  female                107     Generation X\n",
       "27816  Uzbekistan  female                  9           Silent\n",
       "27817  Uzbekistan    male                 60     Generation Z\n",
       "27818  Uzbekistan  female                 44     Generation Z\n",
       "27819  Uzbekistan  female                 21          Boomers\n",
       "\n",
       "[8364 rows x 4 columns]"
      ]
     },
     "execution_count": 56,
     "metadata": {},
     "output_type": "execute_result"
    }
   ],
   "source": [
    "df_solopaisgraph = df.drop(['Anio', 'Poblacion', 'Suicidios/100k pob', 'IDH por anio',\n",
    "       'PIB por anio', 'PIB per capita', 'Edad'], axis=1)\n",
    "df_solopaisgraph"
   ]
  },
  {
   "cell_type": "code",
   "execution_count": 58,
   "metadata": {},
   "outputs": [
    {
     "data": {
      "text/html": [
       "<div>\n",
       "<style scoped>\n",
       "    .dataframe tbody tr th:only-of-type {\n",
       "        vertical-align: middle;\n",
       "    }\n",
       "\n",
       "    .dataframe tbody tr th {\n",
       "        vertical-align: top;\n",
       "    }\n",
       "\n",
       "    .dataframe thead th {\n",
       "        text-align: right;\n",
       "    }\n",
       "</style>\n",
       "<table border=\"1\" class=\"dataframe\">\n",
       "  <thead>\n",
       "    <tr style=\"text-align: right;\">\n",
       "      <th></th>\n",
       "      <th>NumeroDeSuicidios</th>\n",
       "    </tr>\n",
       "    <tr>\n",
       "      <th>Generacion</th>\n",
       "      <th></th>\n",
       "    </tr>\n",
       "  </thead>\n",
       "  <tbody>\n",
       "    <tr>\n",
       "      <td>Boomers</td>\n",
       "      <td>435081</td>\n",
       "    </tr>\n",
       "    <tr>\n",
       "      <td>G.I. Generation</td>\n",
       "      <td>129523</td>\n",
       "    </tr>\n",
       "    <tr>\n",
       "      <td>Generation X</td>\n",
       "      <td>529371</td>\n",
       "    </tr>\n",
       "    <tr>\n",
       "      <td>Generation Z</td>\n",
       "      <td>7991</td>\n",
       "    </tr>\n",
       "    <tr>\n",
       "      <td>Millenials</td>\n",
       "      <td>242303</td>\n",
       "    </tr>\n",
       "    <tr>\n",
       "      <td>Silent</td>\n",
       "      <td>379755</td>\n",
       "    </tr>\n",
       "  </tbody>\n",
       "</table>\n",
       "</div>"
      ],
      "text/plain": [
       "                 NumeroDeSuicidios\n",
       "Generacion                        \n",
       "Boomers                     435081\n",
       "G.I. Generation             129523\n",
       "Generation X                529371\n",
       "Generation Z                  7991\n",
       "Millenials                  242303\n",
       "Silent                      379755"
      ]
     },
     "execution_count": 58,
     "metadata": {},
     "output_type": "execute_result"
    }
   ],
   "source": [
    "df_solopaisgraph = df_solopaisgraph.groupby('Generacion').agg({'NumeroDeSuicidios':'sum'})\n",
    "df_solopaisgraph"
   ]
  },
  {
   "cell_type": "markdown",
   "metadata": {},
   "source": [
    "Clasificando los suicidios por generación podemos ver que entre más joven es menos propenso a que se cometa un suicidio."
   ]
  },
  {
   "cell_type": "code",
   "execution_count": 59,
   "metadata": {
    "scrolled": false
   },
   "outputs": [
    {
     "data": {
      "text/plain": [
       "<matplotlib.axes._subplots.AxesSubplot at 0x230d63cd508>"
      ]
     },
     "execution_count": 59,
     "metadata": {},
     "output_type": "execute_result"
    },
    {
     "data": {
      "image/png": "[encoded data removed]",
      "text/plain": [
       "<Figure size 432x288 with 1 Axes>"
      ]
     },
     "metadata": {},
     "output_type": "display_data"
    }
   ],
   "source": [
    "df_solopaisgraph.plot.bar(stacked=True)"
   ]
  },
  {
   "cell_type": "code",
   "execution_count": 62,
   "metadata": {},
   "outputs": [
    {
     "data": {
      "image/png": "[encoded data removed]",
      "text/plain": [
       "<Figure size 720x432 with 1 Axes>"
      ]
     },
     "metadata": {},
     "output_type": "display_data"
    }
   ],
   "source": [
    "Sui_Past = df_solopaisgraph.pivot_table('NumeroDeSuicidios', index='Generacion', aggfunc='sum')\n",
    "x = Sui_Past.index.values\n",
    "y = Sui_Past.values\n",
    "y = y.reshape(6,)\n",
    "\n",
    "fig, ax = plt.subplots(figsize=(10, 6))\n",
    "explode = (0.1,0.1,0.1,0.5,0.1,0.1)\n",
    "ax.pie(y, explode=explode, labels=x, autopct='%1.1f%%', shadow=True, startangle=0)\n",
    "ax.axis('equal')\n",
    "plt.show()"
   ]
  },
  {
   "cell_type": "markdown",
   "metadata": {},
   "source": [
    "Conociendo los indices de suicidios de hombres y mujeres mostraremos los resultados para saber quienes tuvieron el mayor."
   ]
  },
  {
   "cell_type": "code",
   "execution_count": 18,
   "metadata": {},
   "outputs": [
    {
     "data": {
      "text/plain": [
       "<matplotlib.axes._subplots.AxesSubplot at 0x230d432a308>"
      ]
     },
     "execution_count": 18,
     "metadata": {},
     "output_type": "execute_result"
    },
    {
     "data": {
      "image/png": "[encoded data removed]",
      "text/plain": [
       "<Figure size 432x288 with 1 Axes>"
      ]
     },
     "metadata": {},
     "output_type": "display_data"
    }
   ],
   "source": [
    "df = df[df.NumeroDeSuicidios.isin(df.NumeroDeSuicidios.value_counts().head(2).index)]\n",
    "\n",
    "sns.boxplot(\n",
    "    x='Sexo',\n",
    "    y='NumeroDeSuicidios',\n",
    "    data=df\n",
    ")"
   ]
  },
  {
   "cell_type": "code",
   "execution_count": 19,
   "metadata": {},
   "outputs": [
    {
     "data": {
      "text/plain": [
       "<matplotlib.axes._subplots.AxesSubplot at 0x230d43c5188>"
      ]
     },
     "execution_count": 19,
     "metadata": {},
     "output_type": "execute_result"
    },
    {
     "data": {
      "image/png": "[encoded data removed]",
      "text/plain": [
       "<Figure size 432x288 with 1 Axes>"
      ]
     },
     "metadata": {},
     "output_type": "display_data"
    }
   ],
   "source": [
    "sns.countplot(df['Sexo'])"
   ]
  },
  {
   "cell_type": "code",
   "execution_count": 21,
   "metadata": {},
   "outputs": [
    {
     "data": {
      "image/png": "[encoded data removed]",
      "text/plain": [
       "<Figure size 432x288 with 2 Axes>"
      ]
     },
     "metadata": {},
     "output_type": "display_data"
    }
   ],
   "source": [
    "import statsmodels.api as sm\n",
    "corr = dfa.set_index('NumeroDeSuicidios').corr()\n",
    "sm.graphics.plot_corr(corr, xnames=list(corr.columns))\n",
    "plt.show()"
   ]
  },
  {
   "cell_type": "markdown",
   "metadata": {},
   "source": [
    "### Conclusion"
   ]
  },
  {
   "cell_type": "markdown",
   "metadata": {},
   "source": [
    "Si bien, lo anterior aplicado fue la manera en la cual se debe a empezar a desarrollar mas el uso cognitivo sobre la investigacion de\n",
    "nuestra BD, tomando en cuenta la eliminacion de columnas que no utilicemos ya se por funciones desconocidas o simplemente\n",
    "datos que no son relevantes.\n",
    "Las preguntas fueran replanteadas mas a fondo para dar a entender con mayor facilidad el tema que se esta tratando con la\n",
    "informacion. Al final, fue la manera mas correcta de formularlas."
   ]
  }
 ],
 "metadata": {
  "kernelspec": {
   "display_name": "Python 3",
   "language": "python",
   "name": "python3"
  },
  "language_info": {
   "codemirror_mode": {
    "name": "ipython",
    "version": 3
   },
   "file_extension": ".py",
   "mimetype": "text/x-python",
   "name": "python",
   "nbconvert_exporter": "python",
   "pygments_lexer": "ipython3",
   "version": "3.7.4"
  }
 },
 "nbformat": 4,
 "nbformat_minor": 2
}
