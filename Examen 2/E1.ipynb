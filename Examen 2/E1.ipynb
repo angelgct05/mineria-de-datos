{
 "cells": [
  {
   "cell_type": "markdown",
   "metadata": {},
   "source": [
    "# Examen 2: Ejercicios de Python.\n"
   ]
  },
  {
   "cell_type": "markdown",
   "metadata": {},
   "source": [
    "Al momento de responder las preguntas, cerciorense de que les imprima el resultado. "
   ]
  },
  {
   "cell_type": "markdown",
   "metadata": {},
   "source": [
    "### 1.- Dando lista A = [3, 2, 7, 4, 12, 9, 6, 1] desarrolla los siguientes 3 ejercicios.\n",
    "\n",
    "- Imprime la sumatoria de todos los elementos.\n",
    "- Ordenalos de mayor a menor.\n",
    "- Haz una nueva lista pero solo con sus elementos pares."
   ]
  },
  {
   "cell_type": "code",
   "execution_count": 3,
   "metadata": {},
   "outputs": [
    {
     "data": {
      "text/plain": [
       "44"
      ]
     },
     "execution_count": 3,
     "metadata": {},
     "output_type": "execute_result"
    }
   ],
   "source": [
    "#(Puntos 5)\n",
    "# Imprime la sumatoria de todos los elementos en a = [3, 2, 7, 4, 12, 9, 6, 1].\n",
    "a = [3, 2, 7, 4, 12, 9, 6, 1]\n",
    "Sum = 0\n",
    "for x in a:\n",
    "    Sum = Sum+x\n",
    "Sum"
   ]
  },
  {
   "cell_type": "code",
   "execution_count": 7,
   "metadata": {},
   "outputs": [
    {
     "data": {
      "text/plain": [
       "[12, 9, 7, 6, 4, 3, 2, 1]"
      ]
     },
     "execution_count": 7,
     "metadata": {},
     "output_type": "execute_result"
    }
   ],
   "source": [
    "#(Puntos 10)\n",
    "# Ordenalos de mayor a menor\n",
    "\n",
    "for i in range(len(a)-1):\n",
    "    for j in range(0, len(a)-i-1):\n",
    "        if a[j] < a[j+1]:\n",
    "            temp = a[j]\n",
    "            a[j] = a[j+1]\n",
    "            a[j+1] = temp\n",
    "            \n",
    "            \n",
    "a"
   ]
  },
  {
   "cell_type": "code",
   "execution_count": 10,
   "metadata": {},
   "outputs": [
    {
     "data": {
      "text/plain": [
       "[12, 6, 4, 2]"
      ]
     },
     "execution_count": 10,
     "metadata": {},
     "output_type": "execute_result"
    }
   ],
   "source": [
    "#(Puntos 10)\n",
    "# Haz una nueva lista pero solo con sus elementos pares\n",
    "b = []\n",
    "for x in a:\n",
    "    if x % 2 == 0:\n",
    "        b.append(x)\n",
    "b"
   ]
  },
  {
   "cell_type": "markdown",
   "metadata": {},
   "source": [
    "### 2.- Dale valor a dos variables y realiza 5 funciones que regresen como resultado diferentes operaciones aritmeticas (suma, resta, etc...). "
   ]
  },
  {
   "cell_type": "code",
   "execution_count": 20,
   "metadata": {
    "scrolled": true
   },
   "outputs": [
    {
     "name": "stdout",
     "output_type": "stream",
     "text": [
      "suma:  5 \n",
      "resta:  -1 \n",
      "multiplicacion:  6 \n",
      "division:  0.6666666666666666 \n",
      "exponenciacion:  8\n"
     ]
    }
   ],
   "source": [
    "#(Puntos 15)\n",
    "\n",
    "def suma(v1, v2):\n",
    "    return v1+v2\n",
    "\n",
    "def resta(v1, v2):\n",
    "    return v1-v2\n",
    "\n",
    "def mult(v1, v2):\n",
    "    return v1*v2\n",
    "\n",
    "def div(v1, v2):\n",
    "    return v1/v2\n",
    "\n",
    "def exp(v1, v2):\n",
    "    return v1**v2\n",
    "\n",
    "v1 = 2\n",
    "v2 = 3\n",
    "\n",
    "print('suma: ',suma(v1, v2), '\\nresta: ',resta(v1, v2), '\\nmultiplicacion: ',mult(v1, v2), '\\ndivision: ',div(v1, v2), '\\nexponenciacion: ',exp(v1, v2))"
   ]
  },
  {
   "cell_type": "markdown",
   "metadata": {},
   "source": [
    "### 3.- Dada la lista A = [3, 2, 7, 4, 12, 9, 6, 1] y lista B = [13, 16, 21, 34, 18, 17, 11, 10] crea una lista nueva que contenga solo los datos impares de ambas listas."
   ]
  },
  {
   "cell_type": "code",
   "execution_count": 22,
   "metadata": {},
   "outputs": [
    {
     "data": {
      "text/plain": [
       "[3, 7, 9, 1, 13, 21, 17, 11]"
      ]
     },
     "execution_count": 22,
     "metadata": {},
     "output_type": "execute_result"
    }
   ],
   "source": [
    "#(Puntos 15)\n",
    "\n",
    "A = [3, 2, 7, 4, 12, 9, 6, 1] \n",
    "B = [13, 16, 21, 34, 18, 17, 11, 10]\n",
    "\n",
    "impares = []\n",
    "\n",
    "for x in A:\n",
    "    if x % 2 != 0:\n",
    "        impares.append(x)\n",
    "        \n",
    "for x in B:\n",
    "    if x % 2 != 0:\n",
    "        impares.append(x)\n",
    "impares"
   ]
  },
  {
   "cell_type": "markdown",
   "metadata": {},
   "source": [
    "### 4.- Dadas las variables W = 11, X = 17, Y = 32, Z = 65, crea una función que clasifique por grupos de edad (niño, adolecente, adulto, adulto mayor. (Utiliza el elif)"
   ]
  },
  {
   "cell_type": "code",
   "execution_count": 77,
   "metadata": {},
   "outputs": [
    {
     "name": "stdout",
     "output_type": "stream",
     "text": [
      "Es niño\n",
      "Es adolescente\n",
      "Es adulto\n",
      "Es adulto medio\n"
     ]
    }
   ],
   "source": [
    "#(Puntos 15)\n",
    "\n",
    "W = 11\n",
    "X = 17\n",
    "Y = 32\n",
    "Z = 65\n",
    "\n",
    "def edades(edad):\n",
    "    if(edad<=11):\n",
    "        print('Es niño')\n",
    "    elif(edad>11 and edad<=17):\n",
    "        print ('Es adolescente')\n",
    "    elif(edad>17 and edad<=32):\n",
    "        print ('Es adulto')\n",
    "    elif(edad>32 and edad<=65):\n",
    "        print ('Es adulto medio') #No estaba pero falta una clasificacion\n",
    "    elif(edad>65):\n",
    "        print ('Es adulto mayor')\n",
    "        \n",
    "edades(W)\n",
    "edades(X)\n",
    "edades(Y)\n",
    "edades(Z)"
   ]
  },
  {
   "cell_type": "markdown",
   "metadata": {},
   "source": [
    "### 5.- Utilizando cualquiera de las condicionales (for, if, while...) imprime los siguientes patrones tal y como aparecen en el comentario, respetando los espacios y los saltos de renglon.\n"
   ]
  },
  {
   "cell_type": "code",
   "execution_count": 38,
   "metadata": {},
   "outputs": [
    {
     "name": "stdout",
     "output_type": "stream",
     "text": [
      "\n",
      "1  \n",
      "2  2  \n",
      "3  3  3  \n",
      "4  4  4  4  \n",
      "5  5  5  5  5  "
     ]
    }
   ],
   "source": [
    "#(Puntos 10)\n",
    "#1 \n",
    "#2 2\n",
    "#3 3 3\n",
    "#4 4 4 4\n",
    "#5 5 5 5 5\n",
    "i=0\n",
    "j=0\n",
    "while i <= 4:\n",
    "    print('')\n",
    "    while j <= i:\n",
    "        print (i+1, ' ', end=\"\")\n",
    "        j += 1\n",
    "    i += 1\n",
    "    j=0"
   ]
  },
  {
   "cell_type": "code",
   "execution_count": 73,
   "metadata": {},
   "outputs": [
    {
     "name": "stdout",
     "output_type": "stream",
     "text": [
      "\n",
      "5  4  3  2  1  \n",
      "4  3  2  1  \n",
      "3  2  1  \n",
      "2  1  \n",
      "1  \n"
     ]
    }
   ],
   "source": [
    "#(Puntos 15)\n",
    "#5 4 3 2 1 \n",
    "#4 3 2 1\n",
    "#3 2 1 \n",
    "#2 1\n",
    "#1\n",
    "\n",
    "i=5\n",
    "j=5\n",
    "while i >= 0:\n",
    "    print('')\n",
    "    while j >= 6-i:\n",
    "        k=5-i\n",
    "        print (j-k, ' ', end=\"\")\n",
    "        j -= 1\n",
    "    i -= 1\n",
    "    j=5"
   ]
  },
  {
   "cell_type": "markdown",
   "metadata": {},
   "source": [
    "### 6.- Con la lista A = [3, 2, 7, 4, 12, 9, 6, 1] y el uso de condicionales, imprime una nueva lista con cada uno de los elementos de la lista A, al cuadrado."
   ]
  },
  {
   "cell_type": "code",
   "execution_count": 28,
   "metadata": {},
   "outputs": [
    {
     "data": {
      "text/plain": [
       "[9, 4, 49, 16, 144, 81, 36, 1]"
      ]
     },
     "execution_count": 28,
     "metadata": {},
     "output_type": "execute_result"
    }
   ],
   "source": [
    "#(Puntos 10)\n",
    "\n",
    "A2 = [3, 2, 7, 4, 12, 9, 6, 1]\n",
    "A3 = []\n",
    "\n",
    "for x in A2: #La  condición está en el for porque pregunta si aún hay elementos en A2\n",
    "    A3.append(x**2)\n",
    "A3"
   ]
  },
  {
   "cell_type": "markdown",
   "metadata": {},
   "source": [
    "### (Extra puntos 5.) \n",
    "\n",
    "Conteste los tres puntos para obtener la totalidad de los puntos.\n",
    "*Mencione al menos 3 palabras reservadas para el lenguaje de programación de Python.\n",
    "*Describa la diferencia principal entre las listas y las tuplas en Python.\n",
    "*Describa para que sirve el condicional ELIF.\n"
   ]
  },
  {
   "cell_type": "code",
   "execution_count": null,
   "metadata": {},
   "outputs": [],
   "source": [
    "# print return def\n",
    "# \n",
    "# las listas son dinámicas y las tuplas son estáticas (no cambia su valor, es constante)\n",
    "# \n",
    "# Elif es equivalente  aun else if y se cumple cuando no se cumple condicion inicial\n",
    "# y se busca otra condicion"
   ]
  }
 ],
 "metadata": {
  "kernelspec": {
   "display_name": "Python 3",
   "language": "python",
   "name": "python3"
  },
  "language_info": {
   "codemirror_mode": {
    "name": "ipython",
    "version": 3
   },
   "file_extension": ".py",
   "mimetype": "text/x-python",
   "name": "python",
   "nbconvert_exporter": "python",
   "pygments_lexer": "ipython3",
   "version": "3.7.4"
  }
 },
 "nbformat": 4,
 "nbformat_minor": 2
}
